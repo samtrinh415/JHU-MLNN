{
 "cells": [
  {
   "cell_type": "markdown",
   "metadata": {},
   "source": [
    "# Assignment 12 - Neural Networks image recognition\n",
    "Use both MLNN and the ConvNet to solve the following problem.\n",
    "\n",
    "1. Add random noise (i.e. `np.random.normal`) to the images in training and testing. Make sure each image gets a different noise feature added to it. Inspect by printing out an image. \n",
    "2. Compare the loss/accuracy (train, val) after N epochs for both MLNN and ConvNet with and without noise. \n",
    "3. Vary the amount of noise (multiply `np.random.normal` by a factor) and keep track of the accuracy and loss (for training and validation) and plot these results."
   ]
  },
  {
   "cell_type": "markdown",
   "metadata": {},
   "source": [
    "# Neural Networks - Image Recognition "
   ]
  },
  {
   "cell_type": "code",
   "execution_count": 1,
   "metadata": {},
   "outputs": [
    {
     "name": "stderr",
     "output_type": "stream",
     "text": [
      "Using TensorFlow backend.\n"
     ]
    }
   ],
   "source": [
    "import keras\n",
    "from keras.datasets import mnist\n",
    "from keras.models import Sequential\n",
    "from keras.optimizers import RMSprop\n",
    "from keras.layers import Dense, Dropout, Flatten\n",
    "from keras.layers import Conv2D, MaxPooling2D\n",
    "from keras import backend"
   ]
  },
  {
   "cell_type": "code",
   "execution_count": 2,
   "metadata": {},
   "outputs": [],
   "source": [
    "import matplotlib.pyplot as  plt\n",
    "%matplotlib inline"
   ]
  },
  {
   "cell_type": "markdown",
   "metadata": {},
   "source": [
    "## Multi Layer Neural Network\n",
    "Trains a simple deep NN on the MNIST dataset.\n",
    "Gets to 98.40% test accuracy after 20 epochs\n",
    "(there is *a lot* of margin for parameter tuning)."
   ]
  },
  {
   "cell_type": "code",
   "execution_count": 3,
   "metadata": {},
   "outputs": [
    {
     "name": "stdout",
     "output_type": "stream",
     "text": [
      "60000 train samples\n",
      "10000 test samples\n"
     ]
    }
   ],
   "source": [
    "# the data, shuffled and split between train and test sets\n",
    "(x_train, y_train), (x_test, y_test) = mnist.load_data()\n",
    "\n",
    "x_train = x_train.reshape(60000, 784)\n",
    "x_test = x_test.reshape(10000, 784)\n",
    "x_train = x_train.astype('float32')\n",
    "x_test = x_test.astype('float32')\n",
    "x_train /= 255\n",
    "x_test /= 255\n",
    "print(x_train.shape[0], 'train samples')\n",
    "print(x_test.shape[0], 'test samples')"
   ]
  },
  {
   "cell_type": "code",
   "execution_count": 4,
   "metadata": {},
   "outputs": [],
   "source": [
    "import numpy as np\n",
    "\n",
    "x_train_noise10 = x_train + np.random.normal(0, 255*.10, x_train.shape)\n",
    "x_test_noise10 = x_test + np.random.normal(0, 255*.10, x_test.shape)\n",
    "\n",
    "x_train_noise15 = x_train + np.random.normal(0, 255*.15, x_train.shape)\n",
    "x_test_noise15 = x_test + np.random.normal(0, 255*.15, x_test.shape)\n",
    "\n",
    "x_train_noise20 = x_train + np.random.normal(0, 255*.20, x_train.shape)\n",
    "x_test_noise20 = x_test + np.random.normal(0, 255*.20, x_test.shape)\n",
    "\n",
    "x_train_noise50 = x_train + np.random.normal(0, 255*.50, x_train.shape)\n",
    "x_test_noise50 = x_test + np.random.normal(0, 255*.50, x_test.shape)"
   ]
  },
  {
   "cell_type": "code",
   "execution_count": 5,
   "metadata": {},
   "outputs": [
    {
     "name": "stdout",
     "output_type": "stream",
     "text": [
      "Model: \"sequential\"\n",
      "_________________________________________________________________\n",
      "Layer (type)                 Output Shape              Param #   \n",
      "=================================================================\n",
      "dense (Dense)                (None, 512)               401920    \n",
      "_________________________________________________________________\n",
      "dropout (Dropout)            (None, 512)               0         \n",
      "_________________________________________________________________\n",
      "dense_1 (Dense)              (None, 512)               262656    \n",
      "_________________________________________________________________\n",
      "dropout_1 (Dropout)          (None, 512)               0         \n",
      "_________________________________________________________________\n",
      "dense_2 (Dense)              (None, 10)                5130      \n",
      "=================================================================\n",
      "Total params: 669,706\n",
      "Trainable params: 669,706\n",
      "Non-trainable params: 0\n",
      "_________________________________________________________________\n",
      "Epoch 1/20\n",
      "469/469 [==============================] - 13s 28ms/step - loss: 0.2420 - accuracy: 0.9265 - val_loss: 0.0950 - val_accuracy: 0.9700\n",
      "Epoch 2/20\n",
      "469/469 [==============================] - 11s 23ms/step - loss: 0.1022 - accuracy: 0.9696 - val_loss: 0.0842 - val_accuracy: 0.9734\n",
      "Epoch 3/20\n",
      "469/469 [==============================] - 11s 23ms/step - loss: 0.0763 - accuracy: 0.9772 - val_loss: 0.0742 - val_accuracy: 0.9783\n",
      "Epoch 4/20\n",
      "469/469 [==============================] - 10s 21ms/step - loss: 0.0611 - accuracy: 0.9815 - val_loss: 0.1013 - val_accuracy: 0.9728\n",
      "Epoch 5/20\n",
      "469/469 [==============================] - 10s 21ms/step - loss: 0.0505 - accuracy: 0.9850 - val_loss: 0.0745 - val_accuracy: 0.9796\n",
      "Epoch 6/20\n",
      "469/469 [==============================] - 11s 24ms/step - loss: 0.0442 - accuracy: 0.9871 - val_loss: 0.0749 - val_accuracy: 0.9799\n",
      "Epoch 7/20\n",
      "469/469 [==============================] - 9s 20ms/step - loss: 0.0379 - accuracy: 0.9884 - val_loss: 0.0862 - val_accuracy: 0.9811\n",
      "Epoch 8/20\n",
      "469/469 [==============================] - 9s 19ms/step - loss: 0.0327 - accuracy: 0.9903 - val_loss: 0.0734 - val_accuracy: 0.9840\n",
      "Epoch 9/20\n",
      "469/469 [==============================] - 9s 19ms/step - loss: 0.0307 - accuracy: 0.9911 - val_loss: 0.0797 - val_accuracy: 0.9830\n",
      "Epoch 10/20\n",
      "469/469 [==============================] - 9s 19ms/step - loss: 0.0296 - accuracy: 0.9915 - val_loss: 0.0843 - val_accuracy: 0.9825\n",
      "Epoch 11/20\n",
      "469/469 [==============================] - 9s 19ms/step - loss: 0.0263 - accuracy: 0.9924 - val_loss: 0.0900 - val_accuracy: 0.9843\n",
      "Epoch 12/20\n",
      "469/469 [==============================] - 9s 19ms/step - loss: 0.0249 - accuracy: 0.9929 - val_loss: 0.0914 - val_accuracy: 0.9826\n",
      "Epoch 13/20\n",
      "469/469 [==============================] - 9s 19ms/step - loss: 0.0218 - accuracy: 0.9939 - val_loss: 0.0984 - val_accuracy: 0.9816\n",
      "Epoch 14/20\n",
      "469/469 [==============================] - 9s 19ms/step - loss: 0.0213 - accuracy: 0.9937 - val_loss: 0.1053 - val_accuracy: 0.9825\n",
      "Epoch 15/20\n",
      "469/469 [==============================] - 9s 19ms/step - loss: 0.0211 - accuracy: 0.9940 - val_loss: 0.1096 - val_accuracy: 0.9827\n",
      "Epoch 16/20\n",
      "469/469 [==============================] - 9s 19ms/step - loss: 0.0207 - accuracy: 0.9946 - val_loss: 0.1252 - val_accuracy: 0.9820\n",
      "Epoch 17/20\n",
      "469/469 [==============================] - 9s 19ms/step - loss: 0.0199 - accuracy: 0.9947 - val_loss: 0.1305 - val_accuracy: 0.9818\n",
      "Epoch 18/20\n",
      "469/469 [==============================] - 9s 19ms/step - loss: 0.0193 - accuracy: 0.9947 - val_loss: 0.1170 - val_accuracy: 0.9824\n",
      "Epoch 19/20\n",
      "469/469 [==============================] - 9s 18ms/step - loss: 0.0176 - accuracy: 0.9954 - val_loss: 0.1086 - val_accuracy: 0.9836\n",
      "Epoch 20/20\n",
      "469/469 [==============================] - 9s 19ms/step - loss: 0.0171 - accuracy: 0.9955 - val_loss: 0.1388 - val_accuracy: 0.9835\n",
      "Test loss: 0.13880014419555664\n",
      "Test accuracy: 0.9835000038146973\n"
     ]
    }
   ],
   "source": [
    "batch_size = 128\n",
    "num_classes = 10\n",
    "epochs = 20\n",
    "\n",
    "# convert class vectors to binary class matrices\n",
    "y_train = keras.utils.to_categorical(y_train, num_classes)\n",
    "y_test = keras.utils.to_categorical(y_test, num_classes)\n",
    "\n",
    "model = Sequential()\n",
    "model.add(Dense(512, activation='relu', input_shape=(784,)))\n",
    "model.add(Dropout(0.2))\n",
    "model.add(Dense(512, activation='relu'))\n",
    "model.add(Dropout(0.2))\n",
    "model.add(Dense(10, activation='softmax'))\n",
    "\n",
    "model.summary()\n",
    "\n",
    "model.compile(loss='categorical_crossentropy',\n",
    "              optimizer=RMSprop(),\n",
    "              metrics=['accuracy'])\n",
    "\n",
    "history = model.fit(x_train, y_train,\n",
    "                    batch_size=batch_size,\n",
    "                    epochs=epochs,\n",
    "                    verbose=1,\n",
    "                    validation_data=(x_test, y_test))\n",
    "score_nn = model.evaluate(x_test, y_test, verbose=0)\n",
    "print('Test loss:', score_nn[0])\n",
    "print('Test accuracy:', score_nn[1])"
   ]
  },
  {
   "cell_type": "code",
   "execution_count": 6,
   "metadata": {},
   "outputs": [
    {
     "name": "stdout",
     "output_type": "stream",
     "text": [
      "Model: \"sequential_1\"\n",
      "_________________________________________________________________\n",
      "Layer (type)                 Output Shape              Param #   \n",
      "=================================================================\n",
      "dense_3 (Dense)              (None, 512)               401920    \n",
      "_________________________________________________________________\n",
      "dropout_2 (Dropout)          (None, 512)               0         \n",
      "_________________________________________________________________\n",
      "dense_4 (Dense)              (None, 512)               262656    \n",
      "_________________________________________________________________\n",
      "dropout_3 (Dropout)          (None, 512)               0         \n",
      "_________________________________________________________________\n",
      "dense_5 (Dense)              (None, 10)                5130      \n",
      "=================================================================\n",
      "Total params: 669,706\n",
      "Trainable params: 669,706\n",
      "Non-trainable params: 0\n",
      "_________________________________________________________________\n",
      "Epoch 1/20\n",
      "469/469 [==============================] - 9s 19ms/step - loss: 3.8833 - accuracy: 0.1090 - val_loss: 2.3022 - val_accuracy: 0.1145\n",
      "Epoch 2/20\n",
      "469/469 [==============================] - 9s 19ms/step - loss: 2.3060 - accuracy: 0.1167 - val_loss: 2.3069 - val_accuracy: 0.1119\n",
      "Epoch 3/20\n",
      "469/469 [==============================] - 9s 18ms/step - loss: 2.2923 - accuracy: 0.1225 - val_loss: 2.3038 - val_accuracy: 0.1136\n",
      "Epoch 4/20\n",
      "469/469 [==============================] - 9s 18ms/step - loss: 2.2827 - accuracy: 0.1265 - val_loss: 2.3095 - val_accuracy: 0.1130\n",
      "Epoch 5/20\n",
      "469/469 [==============================] - 9s 19ms/step - loss: 2.2728 - accuracy: 0.1303 - val_loss: 2.3025 - val_accuracy: 0.1132\n",
      "Epoch 6/20\n",
      "469/469 [==============================] - 9s 18ms/step - loss: 2.2694 - accuracy: 0.1336 - val_loss: 2.3037 - val_accuracy: 0.1126\n",
      "Epoch 7/20\n",
      "469/469 [==============================] - 9s 19ms/step - loss: 2.2644 - accuracy: 0.1360 - val_loss: 2.3047 - val_accuracy: 0.1134\n",
      "Epoch 8/20\n",
      "469/469 [==============================] - 9s 19ms/step - loss: 2.2627 - accuracy: 0.1377 - val_loss: 2.3022 - val_accuracy: 0.1133\n",
      "Epoch 9/20\n",
      "469/469 [==============================] - 9s 19ms/step - loss: 2.2606 - accuracy: 0.1379 - val_loss: 2.3027 - val_accuracy: 0.1137\n",
      "Epoch 10/20\n",
      "469/469 [==============================] - 9s 19ms/step - loss: 2.2593 - accuracy: 0.1396 - val_loss: 2.3032 - val_accuracy: 0.1129\n",
      "Epoch 11/20\n",
      "469/469 [==============================] - 9s 19ms/step - loss: 2.2606 - accuracy: 0.1408 - val_loss: 2.3054 - val_accuracy: 0.1129\n",
      "Epoch 12/20\n",
      "469/469 [==============================] - 9s 19ms/step - loss: 2.2539 - accuracy: 0.1425 - val_loss: 2.3042 - val_accuracy: 0.1134\n",
      "Epoch 13/20\n",
      "469/469 [==============================] - 9s 19ms/step - loss: 2.2583 - accuracy: 0.1423 - val_loss: 2.3047 - val_accuracy: 0.1136\n",
      "Epoch 14/20\n",
      "469/469 [==============================] - 9s 19ms/step - loss: 2.2525 - accuracy: 0.1444 - val_loss: 2.3042 - val_accuracy: 0.1137\n",
      "Epoch 15/20\n",
      "469/469 [==============================] - 9s 19ms/step - loss: 2.2529 - accuracy: 0.1440 - val_loss: 2.3048 - val_accuracy: 0.1133\n",
      "Epoch 16/20\n",
      "469/469 [==============================] - 9s 19ms/step - loss: 2.2508 - accuracy: 0.1454 - val_loss: 2.3098 - val_accuracy: 0.1129\n",
      "Epoch 17/20\n",
      "469/469 [==============================] - 9s 19ms/step - loss: 2.2494 - accuracy: 0.1456 - val_loss: 2.3095 - val_accuracy: 0.1131\n",
      "Epoch 18/20\n",
      "469/469 [==============================] - 9s 19ms/step - loss: 2.2513 - accuracy: 0.1451 - val_loss: 2.3055 - val_accuracy: 0.1135\n",
      "Epoch 19/20\n",
      "469/469 [==============================] - 9s 19ms/step - loss: 2.2513 - accuracy: 0.1472 - val_loss: 2.3069 - val_accuracy: 0.1131\n",
      "Epoch 20/20\n",
      "469/469 [==============================] - 9s 19ms/step - loss: 2.2538 - accuracy: 0.1460 - val_loss: 2.3062 - val_accuracy: 0.1128\n",
      "Test loss: 2.306216239929199\n",
      "Test accuracy: 0.1128000020980835\n"
     ]
    }
   ],
   "source": [
    "batch_size = 128\n",
    "num_classes = 10\n",
    "epochs = 20\n",
    "\n",
    "model = Sequential()\n",
    "model.add(Dense(512, activation='relu', input_shape=(784,)))\n",
    "model.add(Dropout(0.2))\n",
    "model.add(Dense(512, activation='relu'))\n",
    "model.add(Dropout(0.2))\n",
    "model.add(Dense(10, activation='softmax'))\n",
    "\n",
    "model.summary()\n",
    "\n",
    "model.compile(loss='categorical_crossentropy',\n",
    "              optimizer=RMSprop(),\n",
    "              metrics=['accuracy'])\n",
    "\n",
    "history = model.fit(x_train_noise10, y_train,\n",
    "                    batch_size=batch_size,\n",
    "                    epochs=epochs,\n",
    "                    verbose=1,\n",
    "                    validation_data=(x_test_noise10, y_test))\n",
    "score_nn10 = model.evaluate(x_test_noise10, y_test, verbose=0)\n",
    "print('Test loss:', score_nn10[0])\n",
    "print('Test accuracy:', score_nn10[1])"
   ]
  },
  {
   "cell_type": "code",
   "execution_count": 7,
   "metadata": {},
   "outputs": [
    {
     "name": "stdout",
     "output_type": "stream",
     "text": [
      "Model: \"sequential_2\"\n",
      "_________________________________________________________________\n",
      "Layer (type)                 Output Shape              Param #   \n",
      "=================================================================\n",
      "dense_6 (Dense)              (None, 512)               401920    \n",
      "_________________________________________________________________\n",
      "dropout_4 (Dropout)          (None, 512)               0         \n",
      "_________________________________________________________________\n",
      "dense_7 (Dense)              (None, 512)               262656    \n",
      "_________________________________________________________________\n",
      "dropout_5 (Dropout)          (None, 512)               0         \n",
      "_________________________________________________________________\n",
      "dense_8 (Dense)              (None, 10)                5130      \n",
      "=================================================================\n",
      "Total params: 669,706\n",
      "Trainable params: 669,706\n",
      "Non-trainable params: 0\n",
      "_________________________________________________________________\n",
      "Epoch 1/20\n",
      "469/469 [==============================] - 9s 19ms/step - loss: 4.8214 - accuracy: 0.1085 - val_loss: 2.3049 - val_accuracy: 0.1130\n",
      "Epoch 2/20\n",
      "469/469 [==============================] - 9s 18ms/step - loss: 2.3061 - accuracy: 0.1163 - val_loss: 2.3020 - val_accuracy: 0.1138\n",
      "Epoch 3/20\n",
      "469/469 [==============================] - 9s 18ms/step - loss: 2.2963 - accuracy: 0.1184 - val_loss: 2.3022 - val_accuracy: 0.1134\n",
      "Epoch 4/20\n",
      "469/469 [==============================] - 9s 18ms/step - loss: 2.2953 - accuracy: 0.1213 - val_loss: 2.3032 - val_accuracy: 0.1133\n",
      "Epoch 5/20\n",
      "469/469 [==============================] - 9s 18ms/step - loss: 2.2874 - accuracy: 0.1230 - val_loss: 2.3029 - val_accuracy: 0.1134\n",
      "Epoch 6/20\n",
      "469/469 [==============================] - 9s 18ms/step - loss: 2.2867 - accuracy: 0.1239 - val_loss: 2.3024 - val_accuracy: 0.1138\n",
      "Epoch 7/20\n",
      "469/469 [==============================] - 9s 19ms/step - loss: 2.2862 - accuracy: 0.1256 - val_loss: 2.3015 - val_accuracy: 0.1137\n",
      "Epoch 8/20\n",
      "469/469 [==============================] - 8s 18ms/step - loss: 2.2831 - accuracy: 0.1268 - val_loss: 2.3043 - val_accuracy: 0.1134\n",
      "Epoch 9/20\n",
      "469/469 [==============================] - 9s 18ms/step - loss: 2.2812 - accuracy: 0.1275 - val_loss: 2.3019 - val_accuracy: 0.1135\n",
      "Epoch 10/20\n",
      "469/469 [==============================] - 8s 18ms/step - loss: 2.2810 - accuracy: 0.1287 - val_loss: 2.3032 - val_accuracy: 0.1133\n",
      "Epoch 11/20\n",
      "469/469 [==============================] - 8s 18ms/step - loss: 2.2791 - accuracy: 0.1294 - val_loss: 2.3016 - val_accuracy: 0.1137\n",
      "Epoch 12/20\n",
      "469/469 [==============================] - 9s 18ms/step - loss: 2.2751 - accuracy: 0.1304 - val_loss: 2.3023 - val_accuracy: 0.1135\n",
      "Epoch 13/20\n",
      "469/469 [==============================] - 8s 18ms/step - loss: 2.2756 - accuracy: 0.1309 - val_loss: 2.3026 - val_accuracy: 0.1135\n",
      "Epoch 14/20\n",
      "469/469 [==============================] - 8s 18ms/step - loss: 2.2732 - accuracy: 0.1319 - val_loss: 2.3038 - val_accuracy: 0.1135\n",
      "Epoch 15/20\n",
      "469/469 [==============================] - 8s 18ms/step - loss: 2.2714 - accuracy: 0.1321 - val_loss: 2.3029 - val_accuracy: 0.1135\n",
      "Epoch 16/20\n",
      "469/469 [==============================] - 8s 18ms/step - loss: 2.2689 - accuracy: 0.1328 - val_loss: 2.3053 - val_accuracy: 0.1133\n",
      "Epoch 17/20\n",
      "469/469 [==============================] - 9s 18ms/step - loss: 2.2706 - accuracy: 0.1335 - val_loss: 2.3041 - val_accuracy: 0.1139\n",
      "Epoch 18/20\n",
      "469/469 [==============================] - 9s 18ms/step - loss: 2.2710 - accuracy: 0.1338 - val_loss: 2.3035 - val_accuracy: 0.1132\n",
      "Epoch 19/20\n",
      "469/469 [==============================] - 8s 18ms/step - loss: 2.2679 - accuracy: 0.1342 - val_loss: 2.3016 - val_accuracy: 0.1136\n",
      "Epoch 20/20\n",
      "469/469 [==============================] - 8s 18ms/step - loss: 2.2681 - accuracy: 0.1345 - val_loss: 2.3017 - val_accuracy: 0.1135\n",
      "Test loss: 2.301741123199463\n",
      "Test accuracy: 0.11349999904632568\n"
     ]
    }
   ],
   "source": [
    "batch_size = 128\n",
    "num_classes = 10\n",
    "epochs = 20\n",
    "\n",
    "model = Sequential()\n",
    "model.add(Dense(512, activation='relu', input_shape=(784,)))\n",
    "model.add(Dropout(0.2))\n",
    "model.add(Dense(512, activation='relu'))\n",
    "model.add(Dropout(0.2))\n",
    "model.add(Dense(10, activation='softmax'))\n",
    "\n",
    "model.summary()\n",
    "\n",
    "model.compile(loss='categorical_crossentropy',\n",
    "              optimizer=RMSprop(),\n",
    "              metrics=['accuracy'])\n",
    "\n",
    "history = model.fit(x_train_noise15, y_train,\n",
    "                    batch_size=batch_size,\n",
    "                    epochs=epochs,\n",
    "                    verbose=1,\n",
    "                    validation_data=(x_test_noise15, y_test))\n",
    "score_nn15 = model.evaluate(x_test_noise15, y_test, verbose=0)\n",
    "print('Test loss:', score_nn15[0])\n",
    "print('Test accuracy:', score_nn15[1])"
   ]
  },
  {
   "cell_type": "code",
   "execution_count": 8,
   "metadata": {},
   "outputs": [
    {
     "name": "stdout",
     "output_type": "stream",
     "text": [
      "Model: \"sequential_3\"\n",
      "_________________________________________________________________\n",
      "Layer (type)                 Output Shape              Param #   \n",
      "=================================================================\n",
      "dense_9 (Dense)              (None, 512)               401920    \n",
      "_________________________________________________________________\n",
      "dropout_6 (Dropout)          (None, 512)               0         \n",
      "_________________________________________________________________\n",
      "dense_10 (Dense)             (None, 512)               262656    \n",
      "_________________________________________________________________\n",
      "dropout_7 (Dropout)          (None, 512)               0         \n",
      "_________________________________________________________________\n",
      "dense_11 (Dense)             (None, 10)                5130      \n",
      "=================================================================\n",
      "Total params: 669,706\n",
      "Trainable params: 669,706\n",
      "Non-trainable params: 0\n",
      "_________________________________________________________________\n",
      "Epoch 1/20\n",
      "469/469 [==============================] - 9s 19ms/step - loss: 5.9826 - accuracy: 0.1077 - val_loss: 2.3026 - val_accuracy: 0.1138\n",
      "Epoch 2/20\n",
      "469/469 [==============================] - 9s 18ms/step - loss: 2.3088 - accuracy: 0.1151 - val_loss: 2.3059 - val_accuracy: 0.1133\n",
      "Epoch 3/20\n",
      "469/469 [==============================] - 9s 19ms/step - loss: 2.3020 - accuracy: 0.1174 - val_loss: 2.3051 - val_accuracy: 0.1135\n",
      "Epoch 4/20\n",
      "469/469 [==============================] - 9s 18ms/step - loss: 2.2957 - accuracy: 0.1189 - val_loss: 2.3022 - val_accuracy: 0.1134\n",
      "Epoch 5/20\n",
      "469/469 [==============================] - 9s 18ms/step - loss: 2.2964 - accuracy: 0.1201 - val_loss: 2.3021 - val_accuracy: 0.1140\n",
      "Epoch 6/20\n",
      "469/469 [==============================] - 9s 20ms/step - loss: 2.2946 - accuracy: 0.1204 - val_loss: 2.3022 - val_accuracy: 0.1135\n",
      "Epoch 7/20\n",
      "469/469 [==============================] - 9s 18ms/step - loss: 2.2886 - accuracy: 0.1218 - val_loss: 2.3018 - val_accuracy: 0.1134\n",
      "Epoch 8/20\n",
      "469/469 [==============================] - 9s 18ms/step - loss: 2.2908 - accuracy: 0.1222 - val_loss: 2.3019 - val_accuracy: 0.1133\n",
      "Epoch 9/20\n",
      "469/469 [==============================] - 9s 19ms/step - loss: 2.2884 - accuracy: 0.1230 - val_loss: 2.3023 - val_accuracy: 0.1135\n",
      "Epoch 10/20\n",
      "469/469 [==============================] - 9s 18ms/step - loss: 2.2875 - accuracy: 0.1238 - val_loss: 2.3013 - val_accuracy: 0.1137\n",
      "Epoch 11/20\n",
      "469/469 [==============================] - 9s 18ms/step - loss: 2.2865 - accuracy: 0.1241 - val_loss: 2.3025 - val_accuracy: 0.1135\n",
      "Epoch 12/20\n",
      "469/469 [==============================] - 9s 18ms/step - loss: 2.2856 - accuracy: 0.1248 - val_loss: 2.3017 - val_accuracy: 0.1136\n",
      "Epoch 13/20\n",
      "469/469 [==============================] - 9s 18ms/step - loss: 2.2829 - accuracy: 0.1252 - val_loss: 2.3021 - val_accuracy: 0.1137\n",
      "Epoch 14/20\n",
      "469/469 [==============================] - 9s 18ms/step - loss: 2.2838 - accuracy: 0.1257 - val_loss: 2.3019 - val_accuracy: 0.1137\n",
      "Epoch 15/20\n",
      "469/469 [==============================] - 9s 19ms/step - loss: 2.2806 - accuracy: 0.1262 - val_loss: 2.3017 - val_accuracy: 0.1134\n",
      "Epoch 16/20\n",
      "469/469 [==============================] - 9s 19ms/step - loss: 2.2808 - accuracy: 0.1265 - val_loss: 2.3040 - val_accuracy: 0.1133\n",
      "Epoch 17/20\n",
      "469/469 [==============================] - 9s 19ms/step - loss: 2.2826 - accuracy: 0.1268 - val_loss: 2.3057 - val_accuracy: 0.1135\n",
      "Epoch 18/20\n",
      "469/469 [==============================] - 9s 19ms/step - loss: 2.2791 - accuracy: 0.1270 - val_loss: 2.3025 - val_accuracy: 0.1137\n",
      "Epoch 19/20\n",
      "469/469 [==============================] - 9s 18ms/step - loss: 2.2760 - accuracy: 0.1279 - val_loss: 2.3046 - val_accuracy: 0.1135\n",
      "Epoch 20/20\n",
      "469/469 [==============================] - 9s 19ms/step - loss: 2.2789 - accuracy: 0.1276 - val_loss: 2.3024 - val_accuracy: 0.1138\n",
      "Test loss: 2.3023934364318848\n",
      "Test accuracy: 0.11379999667406082\n"
     ]
    }
   ],
   "source": [
    "batch_size = 128\n",
    "num_classes = 10\n",
    "epochs = 20\n",
    "\n",
    "model = Sequential()\n",
    "model.add(Dense(512, activation='relu', input_shape=(784,)))\n",
    "model.add(Dropout(0.2))\n",
    "model.add(Dense(512, activation='relu'))\n",
    "model.add(Dropout(0.2))\n",
    "model.add(Dense(10, activation='softmax'))\n",
    "\n",
    "model.summary()\n",
    "\n",
    "model.compile(loss='categorical_crossentropy',\n",
    "              optimizer=RMSprop(),\n",
    "              metrics=['accuracy'])\n",
    "\n",
    "history = model.fit(x_train_noise20, y_train,\n",
    "                    batch_size=batch_size,\n",
    "                    epochs=epochs,\n",
    "                    verbose=1,\n",
    "                    validation_data=(x_test_noise20, y_test))\n",
    "score_nn20 = model.evaluate(x_test_noise20, y_test, verbose=0)\n",
    "print('Test loss:', score_nn20[0])\n",
    "print('Test accuracy:', score_nn20[1])"
   ]
  },
  {
   "cell_type": "code",
   "execution_count": 9,
   "metadata": {},
   "outputs": [
    {
     "name": "stdout",
     "output_type": "stream",
     "text": [
      "Model: \"sequential_4\"\n",
      "_________________________________________________________________\n",
      "Layer (type)                 Output Shape              Param #   \n",
      "=================================================================\n",
      "dense_12 (Dense)             (None, 512)               401920    \n",
      "_________________________________________________________________\n",
      "dropout_8 (Dropout)          (None, 512)               0         \n",
      "_________________________________________________________________\n",
      "dense_13 (Dense)             (None, 512)               262656    \n",
      "_________________________________________________________________\n",
      "dropout_9 (Dropout)          (None, 512)               0         \n",
      "_________________________________________________________________\n",
      "dense_14 (Dense)             (None, 10)                5130      \n",
      "=================================================================\n",
      "Total params: 669,706\n",
      "Trainable params: 669,706\n",
      "Non-trainable params: 0\n",
      "_________________________________________________________________\n",
      "Epoch 1/20\n",
      "469/469 [==============================] - 9s 19ms/step - loss: 10.7068 - accuracy: 0.1089 - val_loss: 2.3028 - val_accuracy: 0.1133\n",
      "Epoch 2/20\n",
      "469/469 [==============================] - 9s 18ms/step - loss: 2.3158 - accuracy: 0.1141 - val_loss: 2.3021 - val_accuracy: 0.1135\n",
      "Epoch 3/20\n",
      "469/469 [==============================] - 9s 18ms/step - loss: 2.3138 - accuracy: 0.1149 - val_loss: 2.3019 - val_accuracy: 0.1135\n",
      "Epoch 4/20\n",
      "469/469 [==============================] - 8s 18ms/step - loss: 2.3077 - accuracy: 0.1157 - val_loss: 2.3014 - val_accuracy: 0.1135\n",
      "Epoch 5/20\n",
      "469/469 [==============================] - 8s 18ms/step - loss: 2.3072 - accuracy: 0.1160 - val_loss: 2.3011 - val_accuracy: 0.1135\n",
      "Epoch 6/20\n",
      "469/469 [==============================] - 9s 18ms/step - loss: 2.3066 - accuracy: 0.1163 - val_loss: 2.3015 - val_accuracy: 0.1134\n",
      "Epoch 7/20\n",
      "469/469 [==============================] - 9s 18ms/step - loss: 2.3064 - accuracy: 0.1164 - val_loss: 2.3014 - val_accuracy: 0.1135\n",
      "Epoch 8/20\n",
      "469/469 [==============================] - 9s 19ms/step - loss: 2.3032 - accuracy: 0.1172 - val_loss: 2.3021 - val_accuracy: 0.1134\n",
      "Epoch 9/20\n",
      "469/469 [==============================] - 9s 18ms/step - loss: 2.3020 - accuracy: 0.1172 - val_loss: 2.3012 - val_accuracy: 0.1135\n",
      "Epoch 10/20\n",
      "469/469 [==============================] - 9s 19ms/step - loss: 2.3021 - accuracy: 0.1170 - val_loss: 2.3007 - val_accuracy: 0.1137\n",
      "Epoch 11/20\n",
      "469/469 [==============================] - 9s 19ms/step - loss: 2.2985 - accuracy: 0.1173 - val_loss: 2.3015 - val_accuracy: 0.1135\n",
      "Epoch 12/20\n",
      "469/469 [==============================] - 9s 19ms/step - loss: 2.3007 - accuracy: 0.1176 - val_loss: 2.3016 - val_accuracy: 0.1134\n",
      "Epoch 13/20\n",
      "469/469 [==============================] - 9s 18ms/step - loss: 2.2982 - accuracy: 0.1178 - val_loss: 2.3010 - val_accuracy: 0.1136\n",
      "Epoch 14/20\n",
      "469/469 [==============================] - 9s 18ms/step - loss: 2.3017 - accuracy: 0.1177 - val_loss: 2.3007 - val_accuracy: 0.1138\n",
      "Epoch 15/20\n",
      "469/469 [==============================] - 9s 18ms/step - loss: 2.2959 - accuracy: 0.1181 - val_loss: 2.3009 - val_accuracy: 0.1135\n",
      "Epoch 16/20\n",
      "469/469 [==============================] - 9s 19ms/step - loss: 2.2938 - accuracy: 0.1180 - val_loss: 2.3016 - val_accuracy: 0.1134\n",
      "Epoch 17/20\n",
      "469/469 [==============================] - 9s 18ms/step - loss: 2.2947 - accuracy: 0.1179 - val_loss: 2.3012 - val_accuracy: 0.1136\n",
      "Epoch 18/20\n",
      "469/469 [==============================] - 8s 18ms/step - loss: 2.2973 - accuracy: 0.1185 - val_loss: 2.3015 - val_accuracy: 0.1135- l\n",
      "Epoch 19/20\n",
      "469/469 [==============================] - 8s 18ms/step - loss: 2.2946 - accuracy: 0.1186 - val_loss: 2.3010 - val_accuracy: 0.1135\n",
      "Epoch 20/20\n",
      "469/469 [==============================] - 9s 19ms/step - loss: 2.2968 - accuracy: 0.1183 - val_loss: 2.3011 - val_accuracy: 0.1135\n",
      "Test loss: 2.3010566234588623\n",
      "Test accuracy: 0.11349999904632568\n"
     ]
    }
   ],
   "source": [
    "batch_size = 128\n",
    "num_classes = 10\n",
    "epochs = 20\n",
    "\n",
    "model = Sequential()\n",
    "model.add(Dense(512, activation='relu', input_shape=(784,)))\n",
    "model.add(Dropout(0.2))\n",
    "model.add(Dense(512, activation='relu'))\n",
    "model.add(Dropout(0.2))\n",
    "model.add(Dense(10, activation='softmax'))\n",
    "\n",
    "model.summary()\n",
    "\n",
    "model.compile(loss='categorical_crossentropy',\n",
    "              optimizer=RMSprop(),\n",
    "              metrics=['accuracy'])\n",
    "\n",
    "history = model.fit(x_train_noise50, y_train,\n",
    "                    batch_size=batch_size,\n",
    "                    epochs=epochs,\n",
    "                    verbose=1,\n",
    "                    validation_data=(x_test_noise50, y_test))\n",
    "score_nn50 = model.evaluate(x_test_noise50, y_test, verbose=0)\n",
    "print('Test loss:', score_nn50[0])\n",
    "print('Test accuracy:', score_nn50[1])"
   ]
  },
  {
   "cell_type": "markdown",
   "metadata": {},
   "source": [
    "## Conv Net\n",
    "Trains a simple convnet on the MNIST dataset.\n",
    "Gets to 99.25% test accuracy after 12 epochs\n",
    "(there is still a lot of margin for parameter tuning).\n"
   ]
  },
  {
   "cell_type": "code",
   "execution_count": 10,
   "metadata": {
    "scrolled": true
   },
   "outputs": [
    {
     "name": "stdout",
     "output_type": "stream",
     "text": [
      "x_train shape: (60000, 28, 28, 1)\n",
      "60000 train samples\n",
      "10000 test samples\n"
     ]
    }
   ],
   "source": [
    "# input image dimensions\n",
    "img_rows, img_cols = 28, 28\n",
    "\n",
    "# the data, shuffled and split between train and test sets\n",
    "(x_train, y_train), (x_test, y_test) = mnist.load_data()\n",
    "\n",
    "if backend.image_data_format() == 'channels_first':\n",
    "    x_train = x_train.reshape(x_train.shape[0], 1, img_rows, img_cols)\n",
    "    x_test = x_test.reshape(x_test.shape[0], 1, img_rows, img_cols)\n",
    "    input_shape = (1, img_rows, img_cols)\n",
    "else:\n",
    "    x_train = x_train.reshape(x_train.shape[0], img_rows, img_cols, 1)\n",
    "    x_test = x_test.reshape(x_test.shape[0], img_rows, img_cols, 1)\n",
    "    input_shape = (img_rows, img_cols, 1)\n",
    "\n",
    "x_train = x_train.astype('float32')\n",
    "x_test = x_test.astype('float32')\n",
    "x_train /= 255\n",
    "x_test /= 255\n",
    "print('x_train shape:', x_train.shape)\n",
    "print(x_train.shape[0], 'train samples')\n",
    "print(x_test.shape[0], 'test samples')"
   ]
  },
  {
   "cell_type": "code",
   "execution_count": 11,
   "metadata": {},
   "outputs": [
    {
     "name": "stdout",
     "output_type": "stream",
     "text": [
      "Epoch 1/12\n",
      "469/469 [==============================] - 117s 249ms/step - loss: 2.2752 - accuracy: 0.1705 - val_loss: 2.2320 - val_accuracy: 0.3669\n",
      "Epoch 2/12\n",
      "469/469 [==============================] - 115s 246ms/step - loss: 2.2066 - accuracy: 0.2875 - val_loss: 2.1504 - val_accuracy: 0.4971\n",
      "Epoch 3/12\n",
      "469/469 [==============================] - 116s 248ms/step - loss: 2.1202 - accuracy: 0.3871 - val_loss: 2.0392 - val_accuracy: 0.6126\n",
      "Epoch 4/12\n",
      "469/469 [==============================] - 117s 249ms/step - loss: 2.0047 - accuracy: 0.4634 - val_loss: 1.8926 - val_accuracy: 0.6838\n",
      "Epoch 5/12\n",
      "469/469 [==============================] - 117s 250ms/step - loss: 1.8616 - accuracy: 0.5206 - val_loss: 1.7147 - val_accuracy: 0.7254\n",
      "Epoch 6/12\n",
      "469/469 [==============================] - 117s 249ms/step - loss: 1.6990 - accuracy: 0.5627 - val_loss: 1.5176 - val_accuracy: 0.7540\n",
      "Epoch 7/12\n",
      "469/469 [==============================] - 116s 248ms/step - loss: 1.5319 - accuracy: 0.5975 - val_loss: 1.3216 - val_accuracy: 0.7777\n",
      "Epoch 8/12\n",
      "469/469 [==============================] - 117s 250ms/step - loss: 1.3794 - accuracy: 0.6245 - val_loss: 1.1469 - val_accuracy: 0.7989\n",
      "Epoch 9/12\n",
      "469/469 [==============================] - 116s 248ms/step - loss: 1.2448 - accuracy: 0.6525 - val_loss: 1.0017 - val_accuracy: 0.8154\n",
      "Epoch 10/12\n",
      "469/469 [==============================] - 115s 246ms/step - loss: 1.1344 - accuracy: 0.6745 - val_loss: 0.8867 - val_accuracy: 0.8284\n",
      "Epoch 11/12\n",
      "469/469 [==============================] - 117s 250ms/step - loss: 1.0516 - accuracy: 0.6927 - val_loss: 0.7986 - val_accuracy: 0.8375\n",
      "Epoch 12/12\n",
      "469/469 [==============================] - 117s 249ms/step - loss: 0.9770 - accuracy: 0.7114 - val_loss: 0.7276 - val_accuracy: 0.8449\n",
      "Test loss: 0.7276210188865662\n",
      "Test accuracy: 0.8449000120162964\n"
     ]
    }
   ],
   "source": [
    "batch_size = 128\n",
    "num_classes = 10\n",
    "epochs = 12\n",
    "\n",
    "# convert class vectors to binary class matrices\n",
    "y_train = keras.utils.to_categorical(y_train, num_classes)\n",
    "y_test = keras.utils.to_categorical(y_test, num_classes)\n",
    "\n",
    "model = Sequential()\n",
    "model.add(Conv2D(32, kernel_size=(3, 3),\n",
    "                 activation='relu',\n",
    "                 input_shape=input_shape))\n",
    "model.add(Conv2D(64, (3, 3), activation='relu'))\n",
    "model.add(MaxPooling2D(pool_size=(2, 2)))\n",
    "model.add(Dropout(0.25))\n",
    "model.add(Flatten())\n",
    "model.add(Dense(128, activation='relu'))\n",
    "model.add(Dropout(0.5))\n",
    "model.add(Dense(num_classes, activation='softmax'))\n",
    "\n",
    "model.compile(loss=keras.losses.categorical_crossentropy,\n",
    "              optimizer=keras.optimizers.Adadelta(),\n",
    "              metrics=['accuracy'])\n",
    "\n",
    "model.fit(x_train, y_train,\n",
    "          batch_size=batch_size,\n",
    "          epochs=epochs,\n",
    "          verbose=1,\n",
    "          validation_data=(x_test, y_test))\n",
    "score_cn = model.evaluate(x_test, y_test, verbose=0)\n",
    "print('Test loss:', score_cn[0])\n",
    "print('Test accuracy:', score_cn[1])"
   ]
  },
  {
   "cell_type": "code",
   "execution_count": 12,
   "metadata": {},
   "outputs": [],
   "source": [
    "x_train_noise10 = x_train + np.random.normal(0, 255*.10, x_train.shape)\n",
    "x_test_noise10 = x_test + np.random.normal(0, 255*.10, x_test.shape)\n",
    "\n",
    "x_train_noise15 = x_train + np.random.normal(0, 255*.15, x_train.shape)\n",
    "x_test_noise15 = x_test + np.random.normal(0, 255*.15, x_test.shape)\n",
    "\n",
    "x_train_noise20 = x_train + np.random.normal(0, 255*.20, x_train.shape)\n",
    "x_test_noise20 = x_test + np.random.normal(0, 255*.20, x_test.shape)\n",
    "\n",
    "x_train_noise50 = x_train + np.random.normal(0, 255*.50, x_train.shape)\n",
    "x_test_noise50 = x_test + np.random.normal(0, 255*.50, x_test.shape)"
   ]
  },
  {
   "cell_type": "code",
   "execution_count": 13,
   "metadata": {},
   "outputs": [
    {
     "name": "stdout",
     "output_type": "stream",
     "text": [
      "Epoch 1/12\n",
      "469/469 [==============================] - 118s 251ms/step - loss: 7.1525 - accuracy: 0.1005 - val_loss: 2.4515 - val_accuracy: 0.1001\n",
      "Epoch 2/12\n",
      "469/469 [==============================] - 118s 253ms/step - loss: 2.8377 - accuracy: 0.0994 - val_loss: 2.3031 - val_accuracy: 0.1003\n",
      "Epoch 3/12\n",
      "469/469 [==============================] - 118s 252ms/step - loss: 2.3872 - accuracy: 0.1020 - val_loss: 2.3025 - val_accuracy: 0.1008\n",
      "Epoch 4/12\n",
      "469/469 [==============================] - 118s 252ms/step - loss: 2.3355 - accuracy: 0.1011 - val_loss: 2.3025 - val_accuracy: 0.1010\n",
      "Epoch 5/12\n",
      "469/469 [==============================] - 122s 260ms/step - loss: 2.3204 - accuracy: 0.1009 - val_loss: 2.3025 - val_accuracy: 0.1012\n",
      "Epoch 6/12\n",
      "469/469 [==============================] - 118s 251ms/step - loss: 2.3155 - accuracy: 0.1072 - val_loss: 2.3025 - val_accuracy: 0.1136\n",
      "Epoch 7/12\n",
      "469/469 [==============================] - 118s 251ms/step - loss: 2.3111 - accuracy: 0.1111 - val_loss: 2.3025 - val_accuracy: 0.1135\n",
      "Epoch 8/12\n",
      "469/469 [==============================] - 117s 249ms/step - loss: 2.3099 - accuracy: 0.1116 - val_loss: 2.3025 - val_accuracy: 0.1135\n",
      "Epoch 9/12\n",
      "469/469 [==============================] - 117s 249ms/step - loss: 2.3088 - accuracy: 0.1114 - val_loss: 2.3025 - val_accuracy: 0.1135\n",
      "Epoch 10/12\n",
      "469/469 [==============================] - 117s 249ms/step - loss: 2.3077 - accuracy: 0.1120 - val_loss: 2.3025 - val_accuracy: 0.1135\n",
      "Epoch 11/12\n",
      "469/469 [==============================] - 117s 250ms/step - loss: 2.3068 - accuracy: 0.1125 - val_loss: 2.3025 - val_accuracy: 0.1135\n",
      "Epoch 12/12\n",
      "469/469 [==============================] - 119s 254ms/step - loss: 2.3066 - accuracy: 0.1120 - val_loss: 2.3025 - val_accuracy: 0.1135\n",
      "Test loss: 2.302523612976074\n",
      "Test accuracy: 0.11349999904632568\n"
     ]
    }
   ],
   "source": [
    "batch_size = 128\n",
    "num_classes = 10\n",
    "epochs = 12\n",
    "\n",
    "# convert class vectors to binary class matrices\n",
    "# y_train = keras.utils.to_categorical(y_train, num_classes)\n",
    "# y_test = keras.utils.to_categorical(y_test, num_classes)\n",
    "\n",
    "model = Sequential()\n",
    "model.add(Conv2D(32, kernel_size=(3, 3),\n",
    "                 activation='relu',\n",
    "                 input_shape=input_shape))\n",
    "model.add(Conv2D(64, (3, 3), activation='relu'))\n",
    "model.add(MaxPooling2D(pool_size=(2, 2)))\n",
    "model.add(Dropout(0.25))\n",
    "model.add(Flatten())\n",
    "model.add(Dense(128, activation='relu'))\n",
    "model.add(Dropout(0.5))\n",
    "model.add(Dense(num_classes, activation='softmax'))\n",
    "\n",
    "model.compile(loss=keras.losses.categorical_crossentropy,\n",
    "              optimizer=keras.optimizers.Adadelta(),\n",
    "              metrics=['accuracy'])\n",
    "\n",
    "model.fit(x_train_noise10, y_train,\n",
    "          batch_size=batch_size,\n",
    "          epochs=epochs,\n",
    "          verbose=1,\n",
    "          validation_data=(x_test_noise10, y_test))\n",
    "score_cn10 = model.evaluate(x_test_noise10, y_test, verbose=0)\n",
    "print('Test loss:', score_cn10[0])\n",
    "print('Test accuracy:', score_cn10[1])"
   ]
  },
  {
   "cell_type": "code",
   "execution_count": 14,
   "metadata": {},
   "outputs": [
    {
     "name": "stdout",
     "output_type": "stream",
     "text": [
      "Epoch 1/12\n",
      "469/469 [==============================] - 121s 259ms/step - loss: 9.6275 - accuracy: 0.0999 - val_loss: 2.6429 - val_accuracy: 0.0973\n",
      "Epoch 2/12\n",
      "469/469 [==============================] - 126s 269ms/step - loss: 3.3043 - accuracy: 0.0988 - val_loss: 2.3052 - val_accuracy: 0.0986\n",
      "Epoch 3/12\n",
      "469/469 [==============================] - 126s 269ms/step - loss: 2.4603 - accuracy: 0.0970 - val_loss: 2.3026 - val_accuracy: 0.1141\n",
      "Epoch 4/12\n",
      "469/469 [==============================] - 122s 260ms/step - loss: 2.3572 - accuracy: 0.1084 - val_loss: 2.3026 - val_accuracy: 0.1135\n",
      "Epoch 5/12\n",
      "469/469 [==============================] - 120s 256ms/step - loss: 2.3325 - accuracy: 0.1104 - val_loss: 2.3025 - val_accuracy: 0.1135\n",
      "Epoch 6/12\n",
      "469/469 [==============================] - 120s 255ms/step - loss: 2.3234 - accuracy: 0.1095 - val_loss: 2.3025 - val_accuracy: 0.1135\n",
      "Epoch 7/12\n",
      "469/469 [==============================] - 131s 279ms/step - loss: 2.3180 - accuracy: 0.1106 - val_loss: 2.3025 - val_accuracy: 0.1135\n",
      "Epoch 8/12\n",
      "469/469 [==============================] - 122s 261ms/step - loss: 2.3152 - accuracy: 0.1111 - val_loss: 2.3025 - val_accuracy: 0.1135\n",
      "Epoch 9/12\n",
      "469/469 [==============================] - 119s 254ms/step - loss: 2.3120 - accuracy: 0.1116 - val_loss: 2.3025 - val_accuracy: 0.1135\n",
      "Epoch 10/12\n",
      "469/469 [==============================] - 118s 252ms/step - loss: 2.3106 - accuracy: 0.1123 - val_loss: 2.3025 - val_accuracy: 0.1135\n",
      "Epoch 11/12\n",
      "469/469 [==============================] - 118s 252ms/step - loss: 2.3085 - accuracy: 0.1122 - val_loss: 2.3025 - val_accuracy: 0.1135\n",
      "Epoch 12/12\n",
      "469/469 [==============================] - 118s 251ms/step - loss: 2.3089 - accuracy: 0.1115 - val_loss: 2.3025 - val_accuracy: 0.1135\n",
      "Test loss: 2.3025200366973877\n",
      "Test accuracy: 0.11349999904632568\n"
     ]
    }
   ],
   "source": [
    "batch_size = 128\n",
    "num_classes = 10\n",
    "epochs = 12\n",
    "\n",
    "# convert class vectors to binary class matrices\n",
    "# y_train = keras.utils.to_categorical(y_train, num_classes)\n",
    "# y_test = keras.utils.to_categorical(y_test, num_classes)\n",
    "\n",
    "model = Sequential()\n",
    "model.add(Conv2D(32, kernel_size=(3, 3),\n",
    "                 activation='relu',\n",
    "                 input_shape=input_shape))\n",
    "model.add(Conv2D(64, (3, 3), activation='relu'))\n",
    "model.add(MaxPooling2D(pool_size=(2, 2)))\n",
    "model.add(Dropout(0.25))\n",
    "model.add(Flatten())\n",
    "model.add(Dense(128, activation='relu'))\n",
    "model.add(Dropout(0.5))\n",
    "model.add(Dense(num_classes, activation='softmax'))\n",
    "\n",
    "model.compile(loss=keras.losses.categorical_crossentropy,\n",
    "              optimizer=keras.optimizers.Adadelta(),\n",
    "              metrics=['accuracy'])\n",
    "\n",
    "model.fit(x_train_noise15, y_train,\n",
    "          batch_size=batch_size,\n",
    "          epochs=epochs,\n",
    "          verbose=1,\n",
    "          validation_data=(x_test_noise15, y_test))\n",
    "score_cn15 = model.evaluate(x_test_noise15, y_test, verbose=0)\n",
    "print('Test loss:', score_cn15[0])\n",
    "print('Test accuracy:', score_cn15[1])"
   ]
  },
  {
   "cell_type": "code",
   "execution_count": 15,
   "metadata": {},
   "outputs": [
    {
     "name": "stdout",
     "output_type": "stream",
     "text": [
      "Epoch 1/12\n",
      "469/469 [==============================] - 119s 253ms/step - loss: 14.6517 - accuracy: 0.1010 - val_loss: 3.0254 - val_accuracy: 0.1003\n",
      "Epoch 2/12\n",
      "469/469 [==============================] - 120s 256ms/step - loss: 3.9864 - accuracy: 0.0999 - val_loss: 2.3054 - val_accuracy: 0.1042\n",
      "Epoch 3/12\n",
      "469/469 [==============================] - 121s 258ms/step - loss: 2.5208 - accuracy: 0.1022 - val_loss: 2.3026 - val_accuracy: 0.1023\n",
      "Epoch 4/12\n",
      "469/469 [==============================] - 120s 255ms/step - loss: 2.3815 - accuracy: 0.1032 - val_loss: 2.3026 - val_accuracy: 0.1026\n",
      "Epoch 5/12\n",
      "469/469 [==============================] - 120s 255ms/step - loss: 2.3432 - accuracy: 0.1046 - val_loss: 2.3026 - val_accuracy: 0.1026\n",
      "Epoch 6/12\n",
      "469/469 [==============================] - 136s 290ms/step - loss: 2.3284 - accuracy: 0.1036 - val_loss: 2.3026 - val_accuracy: 0.1026\n",
      "Epoch 7/12\n",
      "469/469 [==============================] - 128s 272ms/step - loss: 2.3200 - accuracy: 0.1041 - val_loss: 2.3026 - val_accuracy: 0.1027\n",
      "Epoch 8/12\n",
      "469/469 [==============================] - 133s 284ms/step - loss: 2.3191 - accuracy: 0.1038 - val_loss: 2.3026 - val_accuracy: 0.1027\n",
      "Epoch 9/12\n",
      "469/469 [==============================] - 117s 249ms/step - loss: 2.3160 - accuracy: 0.1042 - val_loss: 2.3025 - val_accuracy: 0.1027\n",
      "Epoch 10/12\n",
      "469/469 [==============================] - 116s 247ms/step - loss: 2.3134 - accuracy: 0.1041 - val_loss: 2.3025 - val_accuracy: 0.1135\n",
      "Epoch 11/12\n",
      "469/469 [==============================] - 119s 253ms/step - loss: 2.3119 - accuracy: 0.1116 - val_loss: 2.3025 - val_accuracy: 0.1135\n",
      "Epoch 12/12\n",
      "469/469 [==============================] - 117s 249ms/step - loss: 2.3105 - accuracy: 0.1117 - val_loss: 2.3025 - val_accuracy: 0.1135\n",
      "Test loss: 2.3025314807891846\n",
      "Test accuracy: 0.11349999904632568\n"
     ]
    }
   ],
   "source": [
    "batch_size = 128\n",
    "num_classes = 10\n",
    "epochs = 12\n",
    "\n",
    "# convert class vectors to binary class matrices\n",
    "# y_train = keras.utils.to_categorical(y_train, num_classes)\n",
    "# y_test = keras.utils.to_categorical(y_test, num_classes)\n",
    "\n",
    "model = Sequential()\n",
    "model.add(Conv2D(32, kernel_size=(3, 3),\n",
    "                 activation='relu',\n",
    "                 input_shape=input_shape))\n",
    "model.add(Conv2D(64, (3, 3), activation='relu'))\n",
    "model.add(MaxPooling2D(pool_size=(2, 2)))\n",
    "model.add(Dropout(0.25))\n",
    "model.add(Flatten())\n",
    "model.add(Dense(128, activation='relu'))\n",
    "model.add(Dropout(0.5))\n",
    "model.add(Dense(num_classes, activation='softmax'))\n",
    "\n",
    "model.compile(loss=keras.losses.categorical_crossentropy,\n",
    "              optimizer=keras.optimizers.Adadelta(),\n",
    "              metrics=['accuracy'])\n",
    "\n",
    "model.fit(x_train_noise20, y_train,\n",
    "          batch_size=batch_size,\n",
    "          epochs=epochs,\n",
    "          verbose=1,\n",
    "          validation_data=(x_test_noise20, y_test))\n",
    "score_cn20 = model.evaluate(x_test_noise20, y_test, verbose=0)\n",
    "print('Test loss:', score_cn20[0])\n",
    "print('Test accuracy:', score_cn20[1])"
   ]
  },
  {
   "cell_type": "code",
   "execution_count": 16,
   "metadata": {},
   "outputs": [
    {
     "name": "stdout",
     "output_type": "stream",
     "text": [
      "Epoch 1/12\n",
      "469/469 [==============================] - 117s 249ms/step - loss: 33.0727 - accuracy: 0.1005 - val_loss: 4.2993 - val_accuracy: 0.0938\n",
      "Epoch 2/12\n",
      "469/469 [==============================] - 117s 249ms/step - loss: 6.8540 - accuracy: 0.1007 - val_loss: 2.3068 - val_accuracy: 0.1009\n",
      "Epoch 3/12\n",
      "469/469 [==============================] - 116s 246ms/step - loss: 2.8969 - accuracy: 0.1011 - val_loss: 2.3028 - val_accuracy: 0.1135\n",
      "Epoch 4/12\n",
      "469/469 [==============================] - 115s 245ms/step - loss: 2.4970 - accuracy: 0.1098 - val_loss: 2.3025 - val_accuracy: 0.1136\n",
      "Epoch 5/12\n",
      "469/469 [==============================] - 116s 248ms/step - loss: 2.4137 - accuracy: 0.1113 - val_loss: 2.3026 - val_accuracy: 0.1135\n",
      "Epoch 6/12\n",
      "469/469 [==============================] - 115s 246ms/step - loss: 2.3721 - accuracy: 0.1111 - val_loss: 2.3026 - val_accuracy: 0.1135\n",
      "Epoch 7/12\n",
      "469/469 [==============================] - 116s 248ms/step - loss: 2.3493 - accuracy: 0.1119 - val_loss: 2.3026 - val_accuracy: 0.1135\n",
      "Epoch 8/12\n",
      "469/469 [==============================] - 115s 246ms/step - loss: 2.3419 - accuracy: 0.1115 - val_loss: 2.3025 - val_accuracy: 0.1135\n",
      "Epoch 9/12\n",
      "469/469 [==============================] - 115s 245ms/step - loss: 2.3364 - accuracy: 0.1122 - val_loss: 2.3025 - val_accuracy: 0.1135\n",
      "Epoch 10/12\n",
      "469/469 [==============================] - 116s 247ms/step - loss: 2.3261 - accuracy: 0.1119 - val_loss: 2.3025 - val_accuracy: 0.1135\n",
      "Epoch 11/12\n",
      "469/469 [==============================] - 115s 246ms/step - loss: 2.3237 - accuracy: 0.1124 - val_loss: 2.3025 - val_accuracy: 0.1135\n",
      "Epoch 12/12\n",
      "469/469 [==============================] - 115s 245ms/step - loss: 2.3222 - accuracy: 0.1117 - val_loss: 2.3025 - val_accuracy: 0.1135\n",
      "Test loss: 2.3025271892547607\n",
      "Test accuracy: 0.11349999904632568\n"
     ]
    }
   ],
   "source": [
    "batch_size = 128\n",
    "num_classes = 10\n",
    "epochs = 12\n",
    "\n",
    "# convert class vectors to binary class matrices\n",
    "# y_train = keras.utils.to_categorical(y_train, num_classes)\n",
    "# y_test = keras.utils.to_categorical(y_test, num_classes)\n",
    "\n",
    "model = Sequential()\n",
    "model.add(Conv2D(32, kernel_size=(3, 3),\n",
    "                 activation='relu',\n",
    "                 input_shape=input_shape))\n",
    "model.add(Conv2D(64, (3, 3), activation='relu'))\n",
    "model.add(MaxPooling2D(pool_size=(2, 2)))\n",
    "model.add(Dropout(0.25))\n",
    "model.add(Flatten())\n",
    "model.add(Dense(128, activation='relu'))\n",
    "model.add(Dropout(0.5))\n",
    "model.add(Dense(num_classes, activation='softmax'))\n",
    "\n",
    "model.compile(loss=keras.losses.categorical_crossentropy,\n",
    "              optimizer=keras.optimizers.Adadelta(),\n",
    "              metrics=['accuracy'])\n",
    "\n",
    "model.fit(x_train_noise50, y_train,\n",
    "          batch_size=batch_size,\n",
    "          epochs=epochs,\n",
    "          verbose=1,\n",
    "          validation_data=(x_test_noise50, y_test))\n",
    "score_cn50 = model.evaluate(x_test_noise50, y_test, verbose=0)\n",
    "print('Test loss:', score_cn50[0])\n",
    "print('Test accuracy:', score_cn50[1])"
   ]
  },
  {
   "cell_type": "markdown",
   "metadata": {},
   "source": [
    "## Graphing Loss for Multi Layer Neural Network vs ConvNet with Noise\n",
    "MLNN model has lower loss. \n"
   ]
  },
  {
   "cell_type": "code",
   "execution_count": 29,
   "metadata": {},
   "outputs": [
    {
     "data": {
      "text/plain": [
       "<matplotlib.legend.Legend at 0x23283a866c8>"
      ]
     },
     "execution_count": 29,
     "metadata": {},
     "output_type": "execute_result"
    },
    {
     "data": {
      "image/png": "[encoded data removed]",
      "text/plain": [
       "<Figure size 432x288 with 1 Axes>"
      ]
     },
     "metadata": {
      "needs_background": "light"
     },
     "output_type": "display_data"
    }
   ],
   "source": [
    "nn_losses = np.array([score_nn[0], score_nn10[0], score_nn15[0], score_nn20[0], score_nn50[0]])\n",
    "cn_losses = np.array([score_cn[0], score_cn10[0], score_cn15[0], score_cn20[0], score_cn50[0]])\n",
    "plt.plot(nn_losses, label='NN Losses', color='b')\n",
    "plt.plot(cn_losses, label='CN Losses', color='orange')\n",
    "plt.legend()"
   ]
  },
  {
   "cell_type": "code",
   "execution_count": 20,
   "metadata": {},
   "outputs": [
    {
     "data": {
      "text/plain": [
       "array([0.13880014, 2.30621624, 2.30174112, 2.30239344, 2.30105662])"
      ]
     },
     "execution_count": 20,
     "metadata": {},
     "output_type": "execute_result"
    }
   ],
   "source": [
    "nn_losses"
   ]
  },
  {
   "cell_type": "code",
   "execution_count": 21,
   "metadata": {},
   "outputs": [
    {
     "data": {
      "text/plain": [
       "array([0.72762102, 2.30252361, 2.30252004, 2.30253148, 2.30252719])"
      ]
     },
     "execution_count": 21,
     "metadata": {},
     "output_type": "execute_result"
    }
   ],
   "source": [
    "cn_losses"
   ]
  },
  {
   "cell_type": "markdown",
   "metadata": {},
   "source": [
    "## Graphing Accurancy for Multi Layer Neural Network vs ConvNet with Noise\n",
    "MLNN model has higher accuracy loss."
   ]
  },
  {
   "cell_type": "code",
   "execution_count": 30,
   "metadata": {},
   "outputs": [
    {
     "data": {
      "text/plain": [
       "<matplotlib.legend.Legend at 0x23283ad2cc8>"
      ]
     },
     "execution_count": 30,
     "metadata": {},
     "output_type": "execute_result"
    },
    {
     "data": {
      "image/png": "[encoded data removed]",
      "text/plain": [
       "<Figure size 432x288 with 1 Axes>"
      ]
     },
     "metadata": {
      "needs_background": "light"
     },
     "output_type": "display_data"
    }
   ],
   "source": [
    "nn_accur = np.array([score_nn[1], score_nn10[1], score_nn15[1], score_nn20[1], score_nn50[1]])\n",
    "cn_accur = np.array([score_cn[1], score_cn10[1], score_cn15[1], score_cn20[1], score_cn50[1]])\n",
    "plt.plot(nn_accur, label='NN Accuracy', color='b')\n",
    "plt.plot(cn_accur, label='CN Accuracy', color='orange')\n",
    "plt.legend()"
   ]
  },
  {
   "cell_type": "code",
   "execution_count": 31,
   "metadata": {},
   "outputs": [
    {
     "data": {
      "text/plain": [
       "array([0.9835, 0.1128, 0.1135, 0.1138, 0.1135])"
      ]
     },
     "execution_count": 31,
     "metadata": {},
     "output_type": "execute_result"
    }
   ],
   "source": [
    "nn_accur"
   ]
  },
  {
   "cell_type": "code",
   "execution_count": 32,
   "metadata": {},
   "outputs": [
    {
     "data": {
      "text/plain": [
       "array([0.84490001, 0.1135    , 0.1135    , 0.1135    , 0.1135    ])"
      ]
     },
     "execution_count": 32,
     "metadata": {},
     "output_type": "execute_result"
    }
   ],
   "source": [
    "cn_accur"
   ]
  }
 ],
 "metadata": {
  "kernelspec": {
   "display_name": "Python 3",
   "language": "python",
   "name": "python3"
  },
  "language_info": {
   "codemirror_mode": {
    "name": "ipython",
    "version": 3
   },
   "file_extension": ".py",
   "mimetype": "text/x-python",
   "name": "python",
   "nbconvert_exporter": "python",
   "pygments_lexer": "ipython3",
   "version": "3.7.6"
  }
 },
 "nbformat": 4,
 "nbformat_minor": 2
}
